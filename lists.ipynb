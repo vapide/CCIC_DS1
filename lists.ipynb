{
 "cells": [
  {
   "cell_type": "code",
   "execution_count": 11,
   "id": "b800c5e4",
   "metadata": {},
   "outputs": [
    {
     "ename": "SyntaxError",
     "evalue": "invalid syntax (1582038463.py, line 4)",
     "output_type": "error",
     "traceback": [
      "\u001b[1;36m  Input \u001b[1;32mIn [11]\u001b[1;36m\u001b[0m\n\u001b[1;33m    foods = ([x for x in foods if x != 'air'], [x.replace('air','popcorn') if x == 'air'])\u001b[0m\n\u001b[1;37m                                                                                        ^\u001b[0m\n\u001b[1;31mSyntaxError\u001b[0m\u001b[1;31m:\u001b[0m invalid syntax\n"
     ]
    }
   ],
   "source": [
    "foods = [\"water\", \"gum\", \"air\"]\n",
    "foods.insert(0,'food')\n",
    "foods = [x for x in foods if x != \"water\"]\n",
    "foods = ([x for x in foods if x != 'air'], [x.replace('air','popcorn') if x == 'air'])\n",
    "print(foods)"
   ]
  },
  {
   "cell_type": "code",
   "execution_count": 19,
   "id": "b77bef10",
   "metadata": {},
   "outputs": [
    {
     "name": "stdout",
     "output_type": "stream",
     "text": [
      "Student Height Weight Age \n",
      "\n",
      "Ella 4'6\" 60 10 \n",
      "\n",
      "Sofia 4' 9\" 75 11 \n",
      "\n",
      "Jesus 5' 0\" 80 10 \n",
      "\n",
      "Jamal 4' 2\" 45 10 \n",
      "\n",
      "Poppy 5' 1\" 80 11 \n",
      "\n",
      "4' 2\"\n"
     ]
    }
   ],
   "source": [
    "students = [[\"Student\", \"Height\", \"Weight\", \"Age\"], [\"Ella\", \"4'6\\\"\", 60, 10], [\"Sofia\", \"4' 9\\\"\", 75, 11], [\"Jesus\", \"5' 0\\\"\",80 ,10], [\"Jamal\", \"4' 2\\\"\", 45, 10], [\"Poppy\", \"5' 1\\\"\", 80, 11]]\n",
    "for x in students:\n",
    "    for y in x:\n",
    "        print(y, end=' ')\n",
    "    print('\\n')\n",
    "print(students[4][1])"
   ]
  },
  {
   "cell_type": "code",
   "execution_count": null,
   "id": "a6d452be",
   "metadata": {},
   "outputs": [],
   "source": []
  },
  {
   "cell_type": "code",
   "execution_count": null,
   "id": "1cf48a12",
   "metadata": {},
   "outputs": [],
   "source": []
  }
 ],
 "metadata": {
  "kernelspec": {
   "display_name": "Python 3 (ipykernel)",
   "language": "python",
   "name": "python3"
  },
  "language_info": {
   "codemirror_mode": {
    "name": "ipython",
    "version": 3
   },
   "file_extension": ".py",
   "mimetype": "text/x-python",
   "name": "python",
   "nbconvert_exporter": "python",
   "pygments_lexer": "ipython3",
   "version": "3.9.12"
  }
 },
 "nbformat": 4,
 "nbformat_minor": 5
}
