{
 "cells": [
  {
   "cell_type": "code",
   "execution_count": 48,
   "id": "f958eb2f",
   "metadata": {},
   "outputs": [
    {
     "name": "stdout",
     "output_type": "stream",
     "text": [
      "594.3789583913419\n",
      "120.39999999999999\n",
      "308.86890422961\n",
      "18054.479124999998\n",
      "4106.253375\n",
      "5.396825396825396\n"
     ]
    }
   ],
   "source": [
    "print(400*(1+0.02)**20)\n",
    "print(140*(1-.14))\n",
    "print(300*(1+.06)**(0.5))\n",
    "print(((850*(1-.03))-(120*1.1))*(52.1429/2))\n",
    "print((850*52.1429/2)-((850*(1-.03))-(120*1.1))*(52.1429/2))\n",
    "print((850*52.1429/2)/((850*52.1429/2)-((850*(1-.03))-(120*1.1))*(52.1429/2)))"
   ]
  },
  {
   "cell_type": "code",
   "execution_count": 72,
   "id": "fbd06a65",
   "metadata": {},
   "outputs": [
    {
     "ename": "SyntaxError",
     "evalue": "invalid syntax (3476783534.py, line 80)",
     "output_type": "error",
     "traceback": [
      "\u001b[1;36m  Input \u001b[1;32mIn [72]\u001b[1;36m\u001b[0m\n\u001b[1;33m    buffer = 'O=dict;r=zip;t=chr;T=\\'raise\\';U=\\'Exception\\';s=range;n=set;w=len;X=isinstance;n=eval;F=\\'*args\\';g=tuple;W=[\\'0x000070\\',\\'0x000072\\',\\'0x000069\\',\\'0x00006e\\',\\'0x000074\\'];import math,pathlib,os,ast,sys;H=math.log;u=math.ceil;P=ast.literal_eval;L=[None,False,__name__,exec,True,int(0),2,3,\\'hi\\',\\'exec\\',\\'utf8\\'];J=O(r([t(i)for i in s(1114111)],[\\\"{0:#0{1}x}\\\".format(i,8)for i in s(1114111)],));q=O((v,k)for k,v in J.items());z=[\\'0x000065\\',\\'0x000078\\',\\'0x000065\\',\\'0x000063\\'];V=T+q[\\'0x000020\\']+U;\\ndef Z(l,L):\\n for k in n(L):l+=q[k];\\n return l\\ndef C(f):\\n bc=\\\"/\\\"\\n for F in f:bc+=J[F]+\\\"/\\\";\\n return bc\\ndef l(bc):\\n f=\\\"\\\";bc=bc.split(\\\"/\\\");bc=\\\" \\\".join(bc).split();\\n for v in bc:f+=q[v];\\n return f\\ndef N(dictionary):\\n G=[]\\n for U in dictionary:G.append((U,dictionary[U]));\\n G.sort(key=lambda x:x[1]);G.reverse();return G\\ndef j(f):\\n return{i:f.count(i)for i in n(f)}\\ndef E(frequencies):\\n return u(H(w(frequencies),16))\\ndef B(G,hexlim):\\n p={}\\n for i in s(w(G)):p[G[i][0]]=\\\"{0:#0{1}x}\\\".format(i,hexlim+2)+\\\"/\\\";\\n return p\\ndef y(f,W):\\n if W and f:s,r=W.popitem();return r.join(y(subs,O(W))for subs in f.split(s));\\n return f\\ndef D(f):\\n return y(f,B(N(j(f)),E(j(f)))),B(N(j(f)),E(j(f)))\\ndef c(f,keys=\\\"\\\"):\\n if X(f,g):keys=f[1];f=f[0];\\n W=O((v,k)for k,v in keys.items());return y(f,W)\\ndef T(code):\\n I=code;A=D(C(code))[1];Y=D(C(code))[0];return I,A,Y\\ndef M(code,A):\\n return l(c(code,A))\\ndef x(s,t):if X(s,str):return \\\"\\\".join(t(ord(a)^b) for a,b in r(s,t)).encode(L[10])else:return bytes([a^b for a,b in r(s,t)])\\n#n(Z(\\'\\',\\'z\\'))(Z(\\'\\',\\'W\\') + \\'=\\' + V)\\n#n(Z(\\'\\',\\'z\\'))(\\'def \\'+Z(\\'\\',\\'W\\')+\\'(\\'+F+\\'): \\'+V+\\'(\\\"\\'+n(\\'t(110)+t(111)+t(112)+t(101)+t(33)+t(34)+t(41)+t(59)\\'))\\n'a\u001b[0m\n\u001b[1;37m                                                                                                                                                                                                                                                                                                                                                                                                                                                                                                                                                                                                                                                                                                                                                                                                                                                                                                                                                                                                                                                                                                                                                                                                                                                                                                                                                                                                                                                                                                                                                                                                                                                                                                                                                                                                                        ^\u001b[0m\n\u001b[1;31mSyntaxError\u001b[0m\u001b[1;31m:\u001b[0m invalid syntax\n"
     ]
    }
   ],
   "source": []
  },
  {
   "cell_type": "code",
   "execution_count": 71,
   "id": "9555b4bb",
   "metadata": {},
   "outputs": [
    {
     "name": "stdout",
     "output_type": "stream",
     "text": [
      "O=dict;r=zip;t=chr;T='raise';U='Exception';s=range;n=set;w=len;X=isinstance;n=eval;F='*args';g=tuple;W=['0x000070','0x000072','0x000069','0x00006e','0x000074'];import math,pathlib,os,ast,sys;H=math.log;u=math.ceil;P=ast.literal_eval;L=[None,False,__name__,exec,True,int(0),2,3,'hi','exec','utf8'];J=O(r([t(i)for i in s(1114111)],[\"{0:#0{1}x}\".format(i,8)for i in s(1114111)],));q=O((v,k)for k,v in J.items());z=['0x000065','0x000078','0x000065','0x000063'];V=T+q['0x000020']+U;\n",
      "def Z(l,L):\n",
      " for k in n(L):l+=q[k];\n",
      " return l\n",
      "def C(f):\n",
      " bc=\"/\"\n",
      " for F in f:bc+=J[F]+\"/\";\n",
      " return bc\n",
      "def l(bc):\n",
      " f=\"\";bc=bc.split(\"/\");bc=\" \".join(bc).split();\n",
      " for v in bc:f+=q[v];\n",
      " return f\n",
      "def N(dictionary):\n",
      " G=[]\n",
      " for U in dictionary:G.append((U,dictionary[U]));\n",
      " G.sort(key=lambda x:x[1]);G.reverse();return G\n",
      "def j(f):\n",
      " return{i:f.count(i)for i in n(f)}\n",
      "def E(frequencies):\n",
      " return u(H(w(frequencies),16))\n",
      "def B(G,hexlim):\n",
      " p={}\n",
      " for i in s(w(G)):p[G[i][0]]=\"{0:#0{1}x}\".format(i,hexlim+2)+\"/\";\n",
      " return p\n",
      "def y(f,W):\n",
      " if W and f:s,r=W.popitem();return r.join(y(subs,O(W))for subs in f.split(s));\n",
      " return f\n",
      "def D(f):\n",
      " return y(f,B(N(j(f)),E(j(f)))),B(N(j(f)),E(j(f)))\n",
      "def c(f,keys=\"\"):\n",
      " if X(f,g):keys=f[1];f=f[0];\n",
      " W=O((v,k)for k,v in keys.items());return y(f,W)\n",
      "def T(code):\n",
      " I=code;A=D(C(code))[1];Y=D(C(code))[0];return I,A,Y\n",
      "def M(code,A):\n",
      " return l(c(code,A))\n",
      "def x(s,t):if X(s,str):return \"\".join(t(ord(a)^b) for a,b in r(s,t)).encode(L[10])else:return bytes([a^b for a,b in r(s,t)])\n",
      "#n(Z('','z'))(Z('','W') + '=' + V)\n",
      "#n(Z('','z'))('def '+Z('','W')+'('+F+'): '+V+'(\"'+n('t(110)+t(111)+t(112)+t(101)+t(33)+t(34)+t(41)+t(59)'))\n",
      "\n"
     ]
    }
   ],
   "source": []
  },
  {
   "cell_type": "code",
   "execution_count": 69,
   "id": "55052efc",
   "metadata": {},
   "outputs": [],
   "source": [
    "def x(s,t):\n",
    "    if isinstance(s, str):return \"\".join(chr(ord(a) ^ b) for a,b in zip(s,t)).encode('utf8')\n",
    "    else:return bytes([a ^ b for a, b in zip(s, t)])"
   ]
  },
  {
   "cell_type": "code",
   "execution_count": 70,
   "id": "60b6095d",
   "metadata": {},
   "outputs": [
    {
     "name": "stdout",
     "output_type": "stream",
     "text": [
      "Message: This is a secret message\n",
      "Key: b'\\x88\\xd27m\\xc3\\rx\\xe8\\x8b\\x17\\x94\\xff\\n\\x06\\xd89\\xeb\\x03*\\x0cH\\xb1\\xcb\\x07'\n",
      "cipherText: b'\\xdc\\xba^\\x1e\\xe3d\\x0b\\xc8\\xea7\\xe7\\x9ait\\xbdM\\xcbnO\\x7f;\\xd0\\xacb'\n",
      "decrypted: This is a secret message\n",
      "Unit test passed\n"
     ]
    }
   ],
   "source": [
    "from os import urandom\n",
    "\n",
    "def genkey(length: int) -> bytes:\n",
    "    \"\"\"Generate key.\"\"\"\n",
    "    return urandom(length)\n",
    "\n",
    "def xor_strings(s,t):\n",
    "    if isinstance(s, str):return \"\".join(chr(ord(a) ^ b) for a, b in zip(s, t)).encode('utf8')\n",
    "    else:return bytes([a ^ b for a, b in zip(s, t)])\n",
    "\n",
    "message = 'This is a secret message'\n",
    "print('Message:', message)\n",
    "\n",
    "key = genkey(len(message))\n",
    "print('Key:', key)\n",
    "\n",
    "cipherText = xor_strings(message.encode('utf8'), key)\n",
    "print('cipherText:', cipherText)\n",
    "print('decrypted:', xor_strings(cipherText, key).decode('utf8'))\n",
    "\n",
    "# Verify\n",
    "if xor_strings(cipherText, key).decode('utf8') == message:\n",
    "    print('Unit test passed')\n",
    "else:\n",
    "    print('Unit test failed')"
   ]
  },
  {
   "cell_type": "code",
   "execution_count": null,
   "id": "6500e387",
   "metadata": {},
   "outputs": [],
   "source": []
  }
 ],
 "metadata": {
  "kernelspec": {
   "display_name": "Python 3 (ipykernel)",
   "language": "python",
   "name": "python3"
  },
  "language_info": {
   "codemirror_mode": {
    "name": "ipython",
    "version": 3
   },
   "file_extension": ".py",
   "mimetype": "text/x-python",
   "name": "python",
   "nbconvert_exporter": "python",
   "pygments_lexer": "ipython3",
   "version": "3.9.12"
  }
 },
 "nbformat": 4,
 "nbformat_minor": 5
}
