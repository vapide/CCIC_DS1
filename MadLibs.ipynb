{
 "cells": [
  {
   "cell_type": "code",
   "execution_count": null,
   "id": "accdeb01",
   "metadata": {},
   "outputs": [],
   "source": [
    "p = []\n",
    "p.append(input('Enter a verb'))\n",
    "p.append(input('Enter an adjective'))\n",
    "p.append(input('Enter a noun'))\n",
    "p.append(input('Enter a verb'))\n",
    "p.append(input('Enter an adjective'))\n",
    "p.append(input('Enter a noun'))\n",
    "p.append(input('Enter a verb'))\n",
    "p.append(input('Enter an adjective'))\n",
    "p.append(input('Enter a noun'))\n",
    "p.append(input('Enter a verb'))\n",
    "p.append(input('Enter an adjective'))\n",
    "p.append(input('Enter a noun'))\n",
    "p.append(input('Enter a verb'))\n",
    "p.append(input('Enter an adjective'))\n",
    "p.append(input('Enter a noun'))\n",
    "p.append(input('Enter a verb'))\n",
    "p.append(input('Enter an adjective'))\n",
    "p.append(input('Enter a noun'))\n",
    "p.append(input('Enter a verb'))\n",
    "p.append(input('Enter an adjective'))\n",
    "p.append(input('Enter a noun'))\n",
    "print('I' + p[0] + ' to the ' + p[1] + p[2] + ' so i can ' + p[3] + p[4] + ' the '+ p[5] + p[6] + ' while you list random words in the english language such as: ' + p[7] + p[8] + p[9] + p[10] + p[11] + p[12] + p[13] + p[14] + p[15] + p[16] + p[17] + p[18] + p[19] + p[20])"
   ]
  },
  {
   "cell_type": "code",
   "execution_count": null,
   "id": "c3d4a8fe",
   "metadata": {},
   "outputs": [],
   "source": [
    "\n",
    "\n",
    "\n",
    "\n",
    "\n",
    "\n",
    "\n",
    "\n",
    "\n",
    "\n",
    "\n",
    "\n"
   ]
  },
  {
   "cell_type": "code",
   "execution_count": null,
   "id": "798a8c08",
   "metadata": {},
   "outputs": [],
   "source": []
  }
 ],
 "metadata": {
  "kernelspec": {
   "display_name": "Python 3 (ipykernel)",
   "language": "python",
   "name": "python3"
  },
  "language_info": {
   "codemirror_mode": {
    "name": "ipython",
    "version": 3
   },
   "file_extension": ".py",
   "mimetype": "text/x-python",
   "name": "python",
   "nbconvert_exporter": "python",
   "pygments_lexer": "ipython3",
   "version": "3.9.12"
  }
 },
 "nbformat": 4,
 "nbformat_minor": 5
}
